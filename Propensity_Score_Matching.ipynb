{
  "nbformat": 4,
  "nbformat_minor": 0,
  "metadata": {
    "colab": {
      "provenance": []
    },
    "kernelspec": {
      "name": "python3",
      "display_name": "Python 3"
    },
    "language_info": {
      "name": "python"
    }
  },
  "cells": [
    {
      "cell_type": "code",
      "execution_count": null,
      "metadata": {
        "id": "OGK5SlA9oMy4"
      },
      "outputs": [],
      "source": [
        "# Import libraries\n",
        "import pandas as pd\n",
        "import statsmodels.api as sm"
      ]
    },
    {
      "cell_type": "code",
      "source": [
        "# Get the dataset\n",
        "dataset = sm.datasets.get_rdataset(\"Wages\", package=\"plm\")\n",
        "\n",
        "# Access the data part of the dataset\n",
        "dataset = dataset.data"
      ],
      "metadata": {
        "id": "Y9NNtWjKoXWS"
      },
      "execution_count": null,
      "outputs": []
    },
    {
      "cell_type": "code",
      "source": [
        "# Transform categorical variables into dummy variables\n",
        "# Drop the first category to avoid multicollinearity\n",
        "dataset = pd.get_dummies(data=dataset, drop_first=True)"
      ],
      "metadata": {
        "id": "ODf6xdH7oTAc"
      },
      "execution_count": null,
      "outputs": []
    },
    {
      "cell_type": "code",
      "source": [
        "# Isolate the response variable (Y), treatment (X), and confounders\n",
        "Y = dataset.loc[:, \"lwage\"].values  # Response variable: log of wages\n",
        "X = dataset.loc[:, \"sex_male\"].values  # Treatment: binary indicator for male\n",
        "confounders = dataset.drop(columns=[\"sex_male\", \"lwage\"]).values  # All other variables"
      ],
      "metadata": {
        "id": "06GuwyHXoR0B"
      },
      "execution_count": null,
      "outputs": []
    },
    {
      "cell_type": "code",
      "source": [
        "# Perform propensity score matching\n",
        "from causalinference import CausalModel\n",
        "\n",
        "# Create a CausalModel object\n",
        "model = CausalModel(Y, X, confounders)"
      ],
      "metadata": {
        "id": "ijyvbqjqoQID"
      },
      "execution_count": null,
      "outputs": []
    },
    {
      "cell_type": "code",
      "source": [
        "# Estimate the treatment effect via matching, adjusting for bias\n",
        "model.est_via_matching(bias_adj=True)\n",
        "\n",
        "# Print the estimates\n",
        "print(model.estimates)"
      ],
      "metadata": {
        "id": "ju_INXM0oP77"
      },
      "execution_count": null,
      "outputs": []
    }
  ]
}